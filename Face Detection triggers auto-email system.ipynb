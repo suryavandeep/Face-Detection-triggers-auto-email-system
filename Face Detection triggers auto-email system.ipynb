{
 "cells": [
  {
   "cell_type": "code",
   "execution_count": null,
   "metadata": {},
   "outputs": [],
   "source": [
    "import cv2"
   ]
  },
  {
   "cell_type": "code",
   "execution_count": null,
   "metadata": {},
   "outputs": [],
   "source": [
    "cap=cv2.VideoCapture(0)\n",
    "while True:\n",
    "    status,frame=cap.read()\n",
    "    #rframe=cv2.resize(frame,(320,240)\n",
    "    cv2.imshow(\"Hey\",cv2.rectangle(frame.copy(),(220,80),(460,380),(200,255,0),2))\n",
    "    if cv2.waitKey(1)==13:\n",
    "        break\n",
    "cv2.destroyAllWindows()\n",
    "cap.release()"
   ]
  },
  {
   "cell_type": "code",
   "execution_count": null,
   "metadata": {},
   "outputs": [],
   "source": [
    "box_frame=cv2.rectangle(frame.copy(),(223,169),(215+223,169+215),(200,255,0),2)\n",
    "cv2.imshow(\"Hey\",box_frame)\n",
    "cv2.waitKey(0)\n",
    "cv2.destroyAllWindows()"
   ]
  },
  {
   "cell_type": "code",
   "execution_count": null,
   "metadata": {},
   "outputs": [],
   "source": [
    "#cap.release()"
   ]
  },
  {
   "cell_type": "code",
   "execution_count": null,
   "metadata": {},
   "outputs": [],
   "source": []
  },
  {
   "cell_type": "code",
   "execution_count": null,
   "metadata": {},
   "outputs": [],
   "source": [
    "import numpy as np"
   ]
  },
  {
   "cell_type": "code",
   "execution_count": null,
   "metadata": {},
   "outputs": [],
   "source": [
    "face_model=cv2.CascadeClassifier(\"haarcascade_frontalface_default.xml\")"
   ]
  },
  {
   "cell_type": "code",
   "execution_count": null,
   "metadata": {},
   "outputs": [],
   "source": [
    "face_cor=face_model.detectMultiScale(frame)"
   ]
  },
  {
   "cell_type": "code",
   "execution_count": null,
   "metadata": {},
   "outputs": [],
   "source": [
    "len(face_cor)"
   ]
  },
  {
   "cell_type": "code",
   "execution_count": null,
   "metadata": {},
   "outputs": [],
   "source": [
    "x1=face_cor[0,0]"
   ]
  },
  {
   "cell_type": "code",
   "execution_count": null,
   "metadata": {},
   "outputs": [],
   "source": [
    "y1=face_cor[0,1] "
   ]
  },
  {
   "cell_type": "code",
   "execution_count": null,
   "metadata": {},
   "outputs": [],
   "source": [
    "x2=x1+face_cor[0,2]"
   ]
  },
  {
   "cell_type": "code",
   "execution_count": null,
   "metadata": {},
   "outputs": [],
   "source": [
    "y2=y1+face_cor[0,3]"
   ]
  },
  {
   "cell_type": "markdown",
   "metadata": {},
   "source": [
    "## Function defined for auto-mailing when face detected"
   ]
  },
  {
   "cell_type": "code",
   "execution_count": null,
   "metadata": {},
   "outputs": [],
   "source": [
    "def automailer(num):\n",
    "    import smtplib\n",
    "    ses=smtplib.SMTP(\"smtp.gmail.com\",587)\n",
    "    ses.starttls()\n",
    "    ses.login(\"********email-id***********\",\"*****password******\")\n",
    "    ses.sendmail(\"*******sender's mail id***********\",\"*****reciever's mail id**********\",\"This is a message sent using Python\\n\\nThe number of faces detected are : \"+str(num))\n",
    "    ses.quit()"
   ]
  },
  {
   "cell_type": "code",
   "execution_count": null,
   "metadata": {},
   "outputs": [],
   "source": [
    "import cv2\n",
    "face_model=cv2.CascadeClassifier(\"haarcascade_frontalface_default.xml\")\n",
    "import numpy as np"
   ]
  },
  {
   "cell_type": "code",
   "execution_count": null,
   "metadata": {},
   "outputs": [],
   "source": [
    "cap=cv2.VideoCapture(0)\n",
    "list=[]\n",
    "while True:\n",
    "    status,frame=cap.read()\n",
    "    face_cor=face_model.detectMultiScale(frame)\n",
    "    if len(face_cor)==0:\n",
    "        cv2.imshow(\"Hey\",frame)\n",
    "        if cv2.waitKey(10)==13:\n",
    "            break\n",
    "    else:\n",
    "        x1=face_cor[0,0]\n",
    "        y1=face_cor[0,1]\n",
    "        x2=x1+face_cor[0,2]\n",
    "        y2=y1+face_cor[0,3]\n",
    "        cv2.putText(frame,\"Faces Detected : \"+str(len(face_cor)),(10,20),cv2.FONT_ITALIC,0.7,(200,255,0))\n",
    "        cv2.imshow(\"Hey\",cv2.rectangle(frame,(x1,y1),(x2,y2),[200,255,0],3))\n",
    "        list.append(len(face_cor))\n",
    "        if cv2.waitKey(10)==13:\n",
    "            break\n",
    "            \n",
    "list.reverse()\n",
    "print(\"Total Faces Detected : \",list[0])\n",
    "cv2.destroyAllWindows()\n",
    "cap.release()\n",
    "automailer(list[0])"
   ]
  },
  {
   "cell_type": "code",
   "execution_count": null,
   "metadata": {},
   "outputs": [],
   "source": [
    "#cap.release()"
   ]
  },
  {
   "cell_type": "code",
   "execution_count": null,
   "metadata": {},
   "outputs": [],
   "source": [
    "#import smtplib"
   ]
  },
  {
   "cell_type": "code",
   "execution_count": null,
   "metadata": {},
   "outputs": [],
   "source": [
    "#ses=smtplib.SMTP('smtp.gmail.com',587)"
   ]
  },
  {
   "cell_type": "code",
   "execution_count": null,
   "metadata": {},
   "outputs": [],
   "source": [
    "#ses.starttls()"
   ]
  },
  {
   "cell_type": "code",
   "execution_count": null,
   "metadata": {},
   "outputs": [],
   "source": [
    "#ses.login(\"********email-id***********\",\"*****password******\")"
   ]
  },
  {
   "cell_type": "code",
   "execution_count": null,
   "metadata": {},
   "outputs": [],
   "source": [
    "#ses.sendmail(\"*******sender's mail id***********\",\"*****reciever's mail id**********\",\"Hello, \\nThis message is sent using Python Code via smtplib module of Python\\n\\n The number of faces detected are : \"+str(list[0]))"
   ]
  },
  {
   "cell_type": "code",
   "execution_count": null,
   "metadata": {},
   "outputs": [],
   "source": [
    "#ses.quit()"
   ]
  },
  {
   "cell_type": "code",
   "execution_count": null,
   "metadata": {},
   "outputs": [],
   "source": []
  },
  {
   "cell_type": "code",
   "execution_count": null,
   "metadata": {},
   "outputs": [],
   "source": []
  }
 ],
 "metadata": {
  "kernelspec": {
   "display_name": "Python 3",
   "language": "python",
   "name": "python3"
  },
  "language_info": {
   "codemirror_mode": {
    "name": "ipython",
    "version": 3
   },
   "file_extension": ".py",
   "mimetype": "text/x-python",
   "name": "python",
   "nbconvert_exporter": "python",
   "pygments_lexer": "ipython3",
   "version": "3.6.5"
  }
 },
 "nbformat": 4,
 "nbformat_minor": 2
}
